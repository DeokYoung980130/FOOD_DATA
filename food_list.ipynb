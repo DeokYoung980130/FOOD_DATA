{
 "cells": [
  {
   "cell_type": "code",
   "execution_count": 198,
   "metadata": {},
   "outputs": [
    {
     "data": {
      "text/html": [
       "<div>\n",
       "<style scoped>\n",
       "    .dataframe tbody tr th:only-of-type {\n",
       "        vertical-align: middle;\n",
       "    }\n",
       "\n",
       "    .dataframe tbody tr th {\n",
       "        vertical-align: top;\n",
       "    }\n",
       "\n",
       "    .dataframe thead th {\n",
       "        text-align: right;\n",
       "    }\n",
       "</style>\n",
       "<table border=\"1\" class=\"dataframe\">\n",
       "  <thead>\n",
       "    <tr style=\"text-align: right;\">\n",
       "      <th></th>\n",
       "      <th>식당명</th>\n",
       "      <th>분류명</th>\n",
       "      <th>행정동명</th>\n",
       "      <th>위도</th>\n",
       "      <th>경도</th>\n",
       "      <th>평점</th>\n",
       "      <th>방문자리뷰수</th>\n",
       "    </tr>\n",
       "  </thead>\n",
       "  <tbody>\n",
       "    <tr>\n",
       "      <th>0</th>\n",
       "      <td>카페드파리</td>\n",
       "      <td>카페</td>\n",
       "      <td>명동</td>\n",
       "      <td>37.562711</td>\n",
       "      <td>126.983746</td>\n",
       "      <td>4.26</td>\n",
       "      <td>345</td>\n",
       "    </tr>\n",
       "    <tr>\n",
       "      <th>1</th>\n",
       "      <td>몰또이탈리안에소프레소바</td>\n",
       "      <td>카페</td>\n",
       "      <td>명동</td>\n",
       "      <td>37.564577</td>\n",
       "      <td>126.986213</td>\n",
       "      <td>4.41</td>\n",
       "      <td>5426</td>\n",
       "    </tr>\n",
       "    <tr>\n",
       "      <th>2</th>\n",
       "      <td>르빵명동성당점</td>\n",
       "      <td>카페</td>\n",
       "      <td>명동</td>\n",
       "      <td>37.563240</td>\n",
       "      <td>126.987005</td>\n",
       "      <td>4.47</td>\n",
       "      <td>694</td>\n",
       "    </tr>\n",
       "    <tr>\n",
       "      <th>3</th>\n",
       "      <td>가배도명동</td>\n",
       "      <td>카페</td>\n",
       "      <td>명동</td>\n",
       "      <td>37.560576</td>\n",
       "      <td>126.985138</td>\n",
       "      <td>4.44</td>\n",
       "      <td>616</td>\n",
       "    </tr>\n",
       "    <tr>\n",
       "      <th>4</th>\n",
       "      <td>명동아지트</td>\n",
       "      <td>카페</td>\n",
       "      <td>명동</td>\n",
       "      <td>37.561961</td>\n",
       "      <td>126.985403</td>\n",
       "      <td>3.00</td>\n",
       "      <td>175</td>\n",
       "    </tr>\n",
       "    <tr>\n",
       "      <th>...</th>\n",
       "      <td>...</td>\n",
       "      <td>...</td>\n",
       "      <td>...</td>\n",
       "      <td>...</td>\n",
       "      <td>...</td>\n",
       "      <td>...</td>\n",
       "      <td>...</td>\n",
       "    </tr>\n",
       "    <tr>\n",
       "      <th>68</th>\n",
       "      <td>리사르커피 명동점</td>\n",
       "      <td>카페</td>\n",
       "      <td>명동</td>\n",
       "      <td>37.561843</td>\n",
       "      <td>126.988244</td>\n",
       "      <td>4.52</td>\n",
       "      <td>108</td>\n",
       "    </tr>\n",
       "    <tr>\n",
       "      <th>69</th>\n",
       "      <td>가배도 명동</td>\n",
       "      <td>카페</td>\n",
       "      <td>명동</td>\n",
       "      <td>37.560579</td>\n",
       "      <td>126.985184</td>\n",
       "      <td>4.44</td>\n",
       "      <td>616</td>\n",
       "    </tr>\n",
       "    <tr>\n",
       "      <th>70</th>\n",
       "      <td>에쎄레젤라또</td>\n",
       "      <td>카페</td>\n",
       "      <td>명동</td>\n",
       "      <td>37.563457</td>\n",
       "      <td>126.986843</td>\n",
       "      <td>4.45</td>\n",
       "      <td>921</td>\n",
       "    </tr>\n",
       "    <tr>\n",
       "      <th>71</th>\n",
       "      <td>크림시크</td>\n",
       "      <td>카페</td>\n",
       "      <td>명동</td>\n",
       "      <td>37.564575</td>\n",
       "      <td>126.984028</td>\n",
       "      <td>4.72</td>\n",
       "      <td>1325</td>\n",
       "    </tr>\n",
       "    <tr>\n",
       "      <th>72</th>\n",
       "      <td>수묵당</td>\n",
       "      <td>한식</td>\n",
       "      <td>강남</td>\n",
       "      <td>37.519081</td>\n",
       "      <td>127.039938</td>\n",
       "      <td>4.57</td>\n",
       "      <td>809</td>\n",
       "    </tr>\n",
       "  </tbody>\n",
       "</table>\n",
       "<p>73 rows × 7 columns</p>\n",
       "</div>"
      ],
      "text/plain": [
       "             식당명  분류명  행정동명         위도          경도    평점   방문자리뷰수\n",
       "0          카페드파리   카페    명동  37.562711  126.983746  4.26      345\n",
       "1   몰또이탈리안에소프레소바   카페    명동  37.564577  126.986213  4.41     5426\n",
       "2        르빵명동성당점   카페    명동  37.563240  126.987005  4.47      694\n",
       "3          가배도명동   카페    명동  37.560576  126.985138  4.44      616\n",
       "4          명동아지트   카페    명동  37.561961  126.985403  3.00      175\n",
       "..           ...  ...   ...        ...         ...   ...      ...\n",
       "68     리사르커피 명동점   카페    명동  37.561843  126.988244  4.52      108\n",
       "69        가배도 명동   카페    명동  37.560579  126.985184  4.44      616\n",
       "70        에쎄레젤라또   카페    명동  37.563457  126.986843  4.45      921\n",
       "71          크림시크   카페    명동  37.564575  126.984028  4.72     1325\n",
       "72           수묵당   한식    강남  37.519081  127.039938  4.57      809\n",
       "\n",
       "[73 rows x 7 columns]"
      ]
     },
     "execution_count": 198,
     "metadata": {},
     "output_type": "execute_result"
    }
   ],
   "source": [
    "import numpy as np\n",
    "import pandas as pd\n",
    "\n",
    "df = pd.read_csv('test4.csv')\n",
    "df"
   ]
  },
  {
   "cell_type": "code",
   "execution_count": 199,
   "metadata": {},
   "outputs": [
    {
     "data": {
      "text/html": [
       "<div>\n",
       "<style scoped>\n",
       "    .dataframe tbody tr th:only-of-type {\n",
       "        vertical-align: middle;\n",
       "    }\n",
       "\n",
       "    .dataframe tbody tr th {\n",
       "        vertical-align: top;\n",
       "    }\n",
       "\n",
       "    .dataframe thead th {\n",
       "        text-align: right;\n",
       "    }\n",
       "</style>\n",
       "<table border=\"1\" class=\"dataframe\">\n",
       "  <thead>\n",
       "    <tr style=\"text-align: right;\">\n",
       "      <th></th>\n",
       "      <th>name</th>\n",
       "      <th>cate</th>\n",
       "      <th>dong</th>\n",
       "      <th>lon</th>\n",
       "      <th>lat</th>\n",
       "      <th>score</th>\n",
       "      <th>review</th>\n",
       "    </tr>\n",
       "  </thead>\n",
       "  <tbody>\n",
       "    <tr>\n",
       "      <th>0</th>\n",
       "      <td>카페드파리</td>\n",
       "      <td>카페</td>\n",
       "      <td>명동</td>\n",
       "      <td>37.562711</td>\n",
       "      <td>126.983746</td>\n",
       "      <td>4.26</td>\n",
       "      <td>345</td>\n",
       "    </tr>\n",
       "    <tr>\n",
       "      <th>1</th>\n",
       "      <td>몰또이탈리안에소프레소바</td>\n",
       "      <td>카페</td>\n",
       "      <td>명동</td>\n",
       "      <td>37.564577</td>\n",
       "      <td>126.986213</td>\n",
       "      <td>4.41</td>\n",
       "      <td>5426</td>\n",
       "    </tr>\n",
       "    <tr>\n",
       "      <th>2</th>\n",
       "      <td>르빵명동성당점</td>\n",
       "      <td>카페</td>\n",
       "      <td>명동</td>\n",
       "      <td>37.563240</td>\n",
       "      <td>126.987005</td>\n",
       "      <td>4.47</td>\n",
       "      <td>694</td>\n",
       "    </tr>\n",
       "    <tr>\n",
       "      <th>3</th>\n",
       "      <td>가배도명동</td>\n",
       "      <td>카페</td>\n",
       "      <td>명동</td>\n",
       "      <td>37.560576</td>\n",
       "      <td>126.985138</td>\n",
       "      <td>4.44</td>\n",
       "      <td>616</td>\n",
       "    </tr>\n",
       "    <tr>\n",
       "      <th>4</th>\n",
       "      <td>명동아지트</td>\n",
       "      <td>카페</td>\n",
       "      <td>명동</td>\n",
       "      <td>37.561961</td>\n",
       "      <td>126.985403</td>\n",
       "      <td>3.00</td>\n",
       "      <td>175</td>\n",
       "    </tr>\n",
       "    <tr>\n",
       "      <th>...</th>\n",
       "      <td>...</td>\n",
       "      <td>...</td>\n",
       "      <td>...</td>\n",
       "      <td>...</td>\n",
       "      <td>...</td>\n",
       "      <td>...</td>\n",
       "      <td>...</td>\n",
       "    </tr>\n",
       "    <tr>\n",
       "      <th>68</th>\n",
       "      <td>리사르커피 명동점</td>\n",
       "      <td>카페</td>\n",
       "      <td>명동</td>\n",
       "      <td>37.561843</td>\n",
       "      <td>126.988244</td>\n",
       "      <td>4.52</td>\n",
       "      <td>108</td>\n",
       "    </tr>\n",
       "    <tr>\n",
       "      <th>69</th>\n",
       "      <td>가배도 명동</td>\n",
       "      <td>카페</td>\n",
       "      <td>명동</td>\n",
       "      <td>37.560579</td>\n",
       "      <td>126.985184</td>\n",
       "      <td>4.44</td>\n",
       "      <td>616</td>\n",
       "    </tr>\n",
       "    <tr>\n",
       "      <th>70</th>\n",
       "      <td>에쎄레젤라또</td>\n",
       "      <td>카페</td>\n",
       "      <td>명동</td>\n",
       "      <td>37.563457</td>\n",
       "      <td>126.986843</td>\n",
       "      <td>4.45</td>\n",
       "      <td>921</td>\n",
       "    </tr>\n",
       "    <tr>\n",
       "      <th>71</th>\n",
       "      <td>크림시크</td>\n",
       "      <td>카페</td>\n",
       "      <td>명동</td>\n",
       "      <td>37.564575</td>\n",
       "      <td>126.984028</td>\n",
       "      <td>4.72</td>\n",
       "      <td>1325</td>\n",
       "    </tr>\n",
       "    <tr>\n",
       "      <th>72</th>\n",
       "      <td>수묵당</td>\n",
       "      <td>한식</td>\n",
       "      <td>강남</td>\n",
       "      <td>37.519081</td>\n",
       "      <td>127.039938</td>\n",
       "      <td>4.57</td>\n",
       "      <td>809</td>\n",
       "    </tr>\n",
       "  </tbody>\n",
       "</table>\n",
       "<p>73 rows × 7 columns</p>\n",
       "</div>"
      ],
      "text/plain": [
       "            name cate dong        lon         lat  score  review\n",
       "0          카페드파리   카페   명동  37.562711  126.983746   4.26     345\n",
       "1   몰또이탈리안에소프레소바   카페   명동  37.564577  126.986213   4.41    5426\n",
       "2        르빵명동성당점   카페   명동  37.563240  126.987005   4.47     694\n",
       "3          가배도명동   카페   명동  37.560576  126.985138   4.44     616\n",
       "4          명동아지트   카페   명동  37.561961  126.985403   3.00     175\n",
       "..           ...  ...  ...        ...         ...    ...     ...\n",
       "68     리사르커피 명동점   카페   명동  37.561843  126.988244   4.52     108\n",
       "69        가배도 명동   카페   명동  37.560579  126.985184   4.44     616\n",
       "70        에쎄레젤라또   카페   명동  37.563457  126.986843   4.45     921\n",
       "71          크림시크   카페   명동  37.564575  126.984028   4.72    1325\n",
       "72           수묵당   한식   강남  37.519081  127.039938   4.57     809\n",
       "\n",
       "[73 rows x 7 columns]"
      ]
     },
     "execution_count": 199,
     "metadata": {},
     "output_type": "execute_result"
    }
   ],
   "source": [
    "df.columns= ['name',\n",
    "             'cate',\n",
    "             'dong',\n",
    "             'lon',\n",
    "             'lat',\n",
    "             'score',\n",
    "             'review',\n",
    "             ]\n",
    "df"
   ]
  },
  {
   "cell_type": "code",
   "execution_count": 279,
   "metadata": {},
   "outputs": [],
   "source": [
    "import numpy as np\n",
    "\n",
    "food_score = np.array([4.26, 4.41, 4.47, 4.44, 3, 3.5, 4.55, 2.7, 4.42, 1.1,\n",
    "4.42, 4.35, 4.49, 4.06, 4.44, 4.22, 4.43, 4.35, 4.35, 4.41,\n",
    "4.56, 4.23, 4.41, 4.41, 4.66, 4.25, 4.14, 3.92, 4.27, 4.43,\n",
    "4.21, 4.56, 4.32, 4.6, 4.69, 4.32, 4.03, 4.41, 4.12, 4.25,\n",
    "3.89, 4.55, 4.21, 4.45, 3.95, 4.13, 4.21, 4.08, 4.15, 4.43,\n",
    "3.67, 4.59, 3.81, 4.26, 4.31, 4.3, 4.24, 4.4, 4.34, 3.74,\n",
    "4.37, 4.3, 4.68, 4.32, 4.47, 4.42, 4.26, 4.52,4.45, 4.72,\n",
    "4.57])\n",
    "\n",
    "food_reviews = np.array([345, 5426, 694, 616, 175, 823, 1772, 148, 3830, 501,\n",
    "12711, 2188, 2577, 3654, 4859, 3279, 4858, 1106, 2993, 887,\n",
    "3889, 2936, 1539, 5539, 13852, 1821, 1006, 397, 1749, 1006,\n",
    "282, 3889, 878, 2537, 407, 910, 220, 847, 1320, 738,\n",
    "1447, 333, 1449, 921, 405, 978, 491, 382, 285, 4861,\n",
    "514, 5069, 970, 760, 456, 1849, 948, 776, 453, 417,\n",
    "1981, 515, 371, 593, 1033, 760, 345, 108,\n",
    "921, 1325, 809])\n"
   ]
  },
  {
   "cell_type": "code",
   "execution_count": 280,
   "metadata": {},
   "outputs": [
    {
     "ename": "ValueError",
     "evalue": "x and y must be the same size",
     "output_type": "error",
     "traceback": [
      "\u001b[0;31m---------------------------------------------------------------------------\u001b[0m",
      "\u001b[0;31mValueError\u001b[0m                                Traceback (most recent call last)",
      "Cell \u001b[0;32mIn[280], line 3\u001b[0m\n\u001b[1;32m      1\u001b[0m \u001b[39mimport\u001b[39;00m \u001b[39mmatplotlib\u001b[39;00m\u001b[39m.\u001b[39;00m\u001b[39mpyplot\u001b[39;00m \u001b[39mas\u001b[39;00m \u001b[39mplt\u001b[39;00m\n\u001b[0;32m----> 3\u001b[0m plt\u001b[39m.\u001b[39mscatter(food_score, food_reviews)\n\u001b[1;32m      4\u001b[0m plt\u001b[39m.\u001b[39mxlabel(\u001b[39m'\u001b[39m\u001b[39mscore\u001b[39m\u001b[39m'\u001b[39m)\n\u001b[1;32m      5\u001b[0m plt\u001b[39m.\u001b[39mylabel(\u001b[39m'\u001b[39m\u001b[39mreviews\u001b[39m\u001b[39m'\u001b[39m)\n",
      "File \u001b[0;32m~/anaconda3/lib/python3.11/site-packages/matplotlib/pyplot.py:2862\u001b[0m, in \u001b[0;36mscatter\u001b[0;34m(x, y, s, c, marker, cmap, norm, vmin, vmax, alpha, linewidths, edgecolors, plotnonfinite, data, **kwargs)\u001b[0m\n\u001b[1;32m   2857\u001b[0m \u001b[39m@_copy_docstring_and_deprecators\u001b[39m(Axes\u001b[39m.\u001b[39mscatter)\n\u001b[1;32m   2858\u001b[0m \u001b[39mdef\u001b[39;00m \u001b[39mscatter\u001b[39m(\n\u001b[1;32m   2859\u001b[0m         x, y, s\u001b[39m=\u001b[39m\u001b[39mNone\u001b[39;00m, c\u001b[39m=\u001b[39m\u001b[39mNone\u001b[39;00m, marker\u001b[39m=\u001b[39m\u001b[39mNone\u001b[39;00m, cmap\u001b[39m=\u001b[39m\u001b[39mNone\u001b[39;00m, norm\u001b[39m=\u001b[39m\u001b[39mNone\u001b[39;00m,\n\u001b[1;32m   2860\u001b[0m         vmin\u001b[39m=\u001b[39m\u001b[39mNone\u001b[39;00m, vmax\u001b[39m=\u001b[39m\u001b[39mNone\u001b[39;00m, alpha\u001b[39m=\u001b[39m\u001b[39mNone\u001b[39;00m, linewidths\u001b[39m=\u001b[39m\u001b[39mNone\u001b[39;00m, \u001b[39m*\u001b[39m,\n\u001b[1;32m   2861\u001b[0m         edgecolors\u001b[39m=\u001b[39m\u001b[39mNone\u001b[39;00m, plotnonfinite\u001b[39m=\u001b[39m\u001b[39mFalse\u001b[39;00m, data\u001b[39m=\u001b[39m\u001b[39mNone\u001b[39;00m, \u001b[39m*\u001b[39m\u001b[39m*\u001b[39mkwargs):\n\u001b[0;32m-> 2862\u001b[0m     __ret \u001b[39m=\u001b[39m gca()\u001b[39m.\u001b[39mscatter(\n\u001b[1;32m   2863\u001b[0m         x, y, s\u001b[39m=\u001b[39ms, c\u001b[39m=\u001b[39mc, marker\u001b[39m=\u001b[39mmarker, cmap\u001b[39m=\u001b[39mcmap, norm\u001b[39m=\u001b[39mnorm,\n\u001b[1;32m   2864\u001b[0m         vmin\u001b[39m=\u001b[39mvmin, vmax\u001b[39m=\u001b[39mvmax, alpha\u001b[39m=\u001b[39malpha, linewidths\u001b[39m=\u001b[39mlinewidths,\n\u001b[1;32m   2865\u001b[0m         edgecolors\u001b[39m=\u001b[39medgecolors, plotnonfinite\u001b[39m=\u001b[39mplotnonfinite,\n\u001b[1;32m   2866\u001b[0m         \u001b[39m*\u001b[39m\u001b[39m*\u001b[39m({\u001b[39m\"\u001b[39m\u001b[39mdata\u001b[39m\u001b[39m\"\u001b[39m: data} \u001b[39mif\u001b[39;00m data \u001b[39mis\u001b[39;00m \u001b[39mnot\u001b[39;00m \u001b[39mNone\u001b[39;00m \u001b[39melse\u001b[39;00m {}), \u001b[39m*\u001b[39m\u001b[39m*\u001b[39mkwargs)\n\u001b[1;32m   2867\u001b[0m     sci(__ret)\n\u001b[1;32m   2868\u001b[0m     \u001b[39mreturn\u001b[39;00m __ret\n",
      "File \u001b[0;32m~/anaconda3/lib/python3.11/site-packages/matplotlib/__init__.py:1446\u001b[0m, in \u001b[0;36m_preprocess_data.<locals>.inner\u001b[0;34m(ax, data, *args, **kwargs)\u001b[0m\n\u001b[1;32m   1443\u001b[0m \u001b[39m@functools\u001b[39m\u001b[39m.\u001b[39mwraps(func)\n\u001b[1;32m   1444\u001b[0m \u001b[39mdef\u001b[39;00m \u001b[39minner\u001b[39m(ax, \u001b[39m*\u001b[39margs, data\u001b[39m=\u001b[39m\u001b[39mNone\u001b[39;00m, \u001b[39m*\u001b[39m\u001b[39m*\u001b[39mkwargs):\n\u001b[1;32m   1445\u001b[0m     \u001b[39mif\u001b[39;00m data \u001b[39mis\u001b[39;00m \u001b[39mNone\u001b[39;00m:\n\u001b[0;32m-> 1446\u001b[0m         \u001b[39mreturn\u001b[39;00m func(ax, \u001b[39m*\u001b[39m\u001b[39mmap\u001b[39m(sanitize_sequence, args), \u001b[39m*\u001b[39m\u001b[39m*\u001b[39mkwargs)\n\u001b[1;32m   1448\u001b[0m     bound \u001b[39m=\u001b[39m new_sig\u001b[39m.\u001b[39mbind(ax, \u001b[39m*\u001b[39margs, \u001b[39m*\u001b[39m\u001b[39m*\u001b[39mkwargs)\n\u001b[1;32m   1449\u001b[0m     auto_label \u001b[39m=\u001b[39m (bound\u001b[39m.\u001b[39marguments\u001b[39m.\u001b[39mget(label_namer)\n\u001b[1;32m   1450\u001b[0m                   \u001b[39mor\u001b[39;00m bound\u001b[39m.\u001b[39mkwargs\u001b[39m.\u001b[39mget(label_namer))\n",
      "File \u001b[0;32m~/anaconda3/lib/python3.11/site-packages/matplotlib/axes/_axes.py:4578\u001b[0m, in \u001b[0;36mAxes.scatter\u001b[0;34m(self, x, y, s, c, marker, cmap, norm, vmin, vmax, alpha, linewidths, edgecolors, plotnonfinite, **kwargs)\u001b[0m\n\u001b[1;32m   4576\u001b[0m y \u001b[39m=\u001b[39m np\u001b[39m.\u001b[39mma\u001b[39m.\u001b[39mravel(y)\n\u001b[1;32m   4577\u001b[0m \u001b[39mif\u001b[39;00m x\u001b[39m.\u001b[39msize \u001b[39m!=\u001b[39m y\u001b[39m.\u001b[39msize:\n\u001b[0;32m-> 4578\u001b[0m     \u001b[39mraise\u001b[39;00m \u001b[39mValueError\u001b[39;00m(\u001b[39m\"\u001b[39m\u001b[39mx and y must be the same size\u001b[39m\u001b[39m\"\u001b[39m)\n\u001b[1;32m   4580\u001b[0m \u001b[39mif\u001b[39;00m s \u001b[39mis\u001b[39;00m \u001b[39mNone\u001b[39;00m:\n\u001b[1;32m   4581\u001b[0m     s \u001b[39m=\u001b[39m (\u001b[39m20\u001b[39m \u001b[39mif\u001b[39;00m mpl\u001b[39m.\u001b[39mrcParams[\u001b[39m'\u001b[39m\u001b[39m_internal.classic_mode\u001b[39m\u001b[39m'\u001b[39m] \u001b[39melse\u001b[39;00m\n\u001b[1;32m   4582\u001b[0m          mpl\u001b[39m.\u001b[39mrcParams[\u001b[39m'\u001b[39m\u001b[39mlines.markersize\u001b[39m\u001b[39m'\u001b[39m] \u001b[39m*\u001b[39m\u001b[39m*\u001b[39m \u001b[39m2.0\u001b[39m)\n",
      "\u001b[0;31mValueError\u001b[0m: x and y must be the same size"
     ]
    },
    {
     "data": {
      "image/png": "[encoded data removed]",
      "text/plain": [
       "<Figure size 640x480 with 1 Axes>"
      ]
     },
     "metadata": {},
     "output_type": "display_data"
    }
   ],
   "source": [
    "import matplotlib.pyplot as plt\n",
    "\n",
    "plt.scatter(food_score, food_reviews)\n",
    "plt.xlabel('score')\n",
    "plt.ylabel('reviews')\n",
    "plt.show()"
   ]
  },
  {
   "cell_type": "code",
   "execution_count": 242,
   "metadata": {},
   "outputs": [],
   "source": [
    "bad_score = np.array([1.56, 1.32, 1.95, 1.52, 1.43, 1.38, 1.81, 1.28, 1.76, 1.49])\n",
    "\n",
    "bad_reviews = np.array([157, 382, 124, 153, 1620, 3372, 147, 270, 851, 297])"
   ]
  },
  {
   "cell_type": "code",
   "execution_count": 239,
   "metadata": {},
   "outputs": [
    {
     "data": {
      "image/png": "[encoded data removed]",
      "text/plain": [
       "<Figure size 640x480 with 1 Axes>"
      ]
     },
     "metadata": {},
     "output_type": "display_data"
    }
   ],
   "source": [
    "plt.scatter(food_score, food_reviews)\n",
    "plt.scatter(bad_score, bad_reviews)\n",
    "plt.xlabel('score')\n",
    "plt.ylabel('reviews')\n",
    "plt.show()"
   ]
  },
  {
   "cell_type": "code",
   "execution_count": 249,
   "metadata": {},
   "outputs": [],
   "source": [
    "score = np.concatenate((food_score, bad_score))\n",
    "reviews = np.concatenate((food_reviews, bad_reviews))"
   ]
  },
  {
   "cell_type": "code",
   "execution_count": 251,
   "metadata": {},
   "outputs": [],
   "source": [
    "sum_data = [[s, r] for s, r in zip(score, reviews)]"
   ]
  },
  {
   "cell_type": "code",
   "execution_count": 252,
   "metadata": {},
   "outputs": [
    {
     "name": "stdout",
     "output_type": "stream",
     "text": [
      "[[4.26, 345], [4.41, 5426], [4.47, 694], [4.44, 616], [3.0, 175], [3.5, 823], [4.55, 1772], [2.7, 148], [4.42, 3830], [1.1, 501], [4.42, 12711], [4.35, 2188], [4.49, 2577], [4.06, 3654], [4.44, 4859], [4.22, 3279], [4.43, 4858], [4.35, 1106], [4.35, 2993], [4.41, 887], [4.56, 3889], [4.23, 2936], [4.41, 1539], [4.41, 5539], [4.66, 13852], [4.25, 1821], [4.14, 1006], [3.92, 397], [4.27, 1749], [4.43, 1006], [4.21, 282], [4.56, 3889], [4.32, 878], [4.6, 2537], [4.69, 407], [4.32, 910], [4.03, 220], [4.41, 847], [4.12, 1320], [4.25, 738], [3.89, 1447], [4.55, 333], [4.21, 1449], [4.45, 921], [3.95, 405], [4.13, 978], [4.21, 491], [4.08, 382], [4.15, 285], [4.43, 4861], [3.67, 514], [4.59, 5069], [3.81, 970], [4.26, 760], [4.31, 456], [4.3, 1849], [4.24, 948], [4.4, 776], [4.34, 453], [3.74, 417], [4.37, 1981], [4.3, 515], [4.68, 371], [4.32, 593], [4.47, 1033], [4.44, 616], [4.42, 760], [4.26, 345], [4.52, 108], [4.44, 616], [4.45, 921], [4.72, 1325], [4.57, 809], [1.56, 157], [1.32, 382], [1.95, 124], [1.52, 153], [1.43, 1620], [1.38, 3372], [1.81, 147], [1.28, 270], [1.76, 851], [1.49, 297]]\n"
     ]
    }
   ],
   "source": [
    "print(sum_data)"
   ]
  },
  {
   "cell_type": "code",
   "execution_count": 253,
   "metadata": {},
   "outputs": [
    {
     "name": "stdout",
     "output_type": "stream",
     "text": [
      "[1, 1, 1, 1, 1, 1, 1, 1, 1, 1, 1, 1, 1, 1, 1, 1, 1, 1, 1, 1, 1, 1, 1, 1, 1, 1, 1, 1, 1, 1, 1, 1, 1, 1, 1, 1, 1, 1, 1, 1, 1, 1, 1, 1, 1, 1, 1, 1, 1, 1, 1, 1, 1, 1, 1, 1, 1, 1, 1, 1, 1, 1, 1, 1, 1, 1, 1, 1, 1, 1, 1, 1, 1, 0, 0, 0, 0, 0, 0, 0, 0, 0, 0]\n"
     ]
    }
   ],
   "source": [
    "food_target = [1] * 73 + [0] * 10\n",
    "print(food_target)"
   ]
  },
  {
   "cell_type": "code",
   "execution_count": 256,
   "metadata": {},
   "outputs": [
    {
     "data": {
      "text/plain": [
       "0.891566265060241"
      ]
     },
     "execution_count": 256,
     "metadata": {},
     "output_type": "execute_result"
    }
   ],
   "source": [
    "from sklearn.neighbors import KNeighborsClassifier\n",
    "\n",
    "kn = KNeighborsClassifier()\n",
    "kn.fit(sum_data, food_target)\n",
    "kn.score(sum_data, food_target)"
   ]
  },
  {
   "cell_type": "code",
   "execution_count": 270,
   "metadata": {},
   "outputs": [
    {
     "data": {
      "text/plain": [
       "array([1])"
      ]
     },
     "execution_count": 270,
     "metadata": {},
     "output_type": "execute_result"
    }
   ],
   "source": [
    "kn.predict([[5, 190]])"
   ]
  },
  {
   "cell_type": "code",
   "execution_count": 272,
   "metadata": {},
   "outputs": [
    {
     "name": "stdout",
     "output_type": "stream",
     "text": [
      "[[4.2600e+00 3.4500e+02]\n",
      " [4.4100e+00 5.4260e+03]\n",
      " [4.4700e+00 6.9400e+02]\n",
      " [4.4400e+00 6.1600e+02]\n",
      " [3.0000e+00 1.7500e+02]\n",
      " [3.5000e+00 8.2300e+02]\n",
      " [4.5500e+00 1.7720e+03]\n",
      " [2.7000e+00 1.4800e+02]\n",
      " [4.4200e+00 3.8300e+03]\n",
      " [1.1000e+00 5.0100e+02]\n",
      " [4.4200e+00 1.2711e+04]\n",
      " [4.3500e+00 2.1880e+03]\n",
      " [4.4900e+00 2.5770e+03]\n",
      " [4.0600e+00 3.6540e+03]\n",
      " [4.4400e+00 4.8590e+03]\n",
      " [4.2200e+00 3.2790e+03]\n",
      " [4.4300e+00 4.8580e+03]\n",
      " [4.3500e+00 1.1060e+03]\n",
      " [4.3500e+00 2.9930e+03]\n",
      " [4.4100e+00 8.8700e+02]\n",
      " [4.5600e+00 3.8890e+03]\n",
      " [4.2300e+00 2.9360e+03]\n",
      " [4.4100e+00 1.5390e+03]\n",
      " [4.4100e+00 5.5390e+03]\n",
      " [4.6600e+00 1.3852e+04]\n",
      " [4.2500e+00 1.8210e+03]\n",
      " [4.1400e+00 1.0060e+03]\n",
      " [3.9200e+00 3.9700e+02]\n",
      " [4.2700e+00 1.7490e+03]\n",
      " [4.4300e+00 1.0060e+03]\n",
      " [4.2100e+00 2.8200e+02]\n",
      " [4.5600e+00 3.8890e+03]\n",
      " [4.3200e+00 8.7800e+02]\n",
      " [4.6000e+00 2.5370e+03]\n",
      " [4.6900e+00 4.0700e+02]\n",
      " [4.3200e+00 9.1000e+02]\n",
      " [4.0300e+00 2.2000e+02]\n",
      " [4.4100e+00 8.4700e+02]\n",
      " [4.1200e+00 1.3200e+03]\n",
      " [4.2500e+00 7.3800e+02]\n",
      " [3.8900e+00 1.4470e+03]\n",
      " [4.5500e+00 3.3300e+02]\n",
      " [4.2100e+00 1.4490e+03]\n",
      " [4.4500e+00 9.2100e+02]\n",
      " [3.9500e+00 4.0500e+02]\n",
      " [4.1300e+00 9.7800e+02]\n",
      " [4.2100e+00 4.9100e+02]\n",
      " [4.0800e+00 3.8200e+02]\n",
      " [4.1500e+00 2.8500e+02]\n",
      " [4.4300e+00 4.8610e+03]\n",
      " [3.6700e+00 5.1400e+02]\n",
      " [4.5900e+00 5.0690e+03]\n",
      " [3.8100e+00 9.7000e+02]\n",
      " [4.2600e+00 7.6000e+02]\n",
      " [4.3100e+00 4.5600e+02]\n",
      " [4.3000e+00 1.8490e+03]\n",
      " [4.2400e+00 9.4800e+02]\n",
      " [4.4000e+00 7.7600e+02]\n",
      " [4.3400e+00 4.5300e+02]\n",
      " [3.7400e+00 4.1700e+02]\n",
      " [4.3700e+00 1.9810e+03]\n",
      " [4.3000e+00 5.1500e+02]\n",
      " [4.6800e+00 3.7100e+02]\n",
      " [4.3200e+00 5.9300e+02]\n",
      " [4.4700e+00 1.0330e+03]\n",
      " [4.4400e+00 6.1600e+02]\n",
      " [4.4200e+00 7.6000e+02]\n",
      " [4.2600e+00 3.4500e+02]\n",
      " [4.5200e+00 1.0800e+02]\n",
      " [4.4400e+00 6.1600e+02]\n",
      " [4.4500e+00 9.2100e+02]\n",
      " [4.7200e+00 1.3250e+03]\n",
      " [4.5700e+00 8.0900e+02]\n",
      " [1.5600e+00 1.5700e+02]\n",
      " [1.3200e+00 3.8200e+02]\n",
      " [1.9500e+00 1.2400e+02]\n",
      " [1.5200e+00 1.5300e+02]\n",
      " [1.4300e+00 1.6200e+03]\n",
      " [1.3800e+00 3.3720e+03]\n",
      " [1.8100e+00 1.4700e+02]\n",
      " [1.2800e+00 2.7000e+02]\n",
      " [1.7600e+00 8.5100e+02]\n",
      " [1.4900e+00 2.9700e+02]]\n"
     ]
    }
   ],
   "source": [
    "print(kn._fit_X)"
   ]
  },
  {
   "cell_type": "code",
   "execution_count": 274,
   "metadata": {},
   "outputs": [
    {
     "name": "stdout",
     "output_type": "stream",
     "text": [
      "[1 1 1 1 1 1 1 1 1 1 1 1 1 1 1 1 1 1 1 1 1 1 1 1 1 1 1 1 1 1 1 1 1 1 1 1 1\n",
      " 1 1 1 1 1 1 1 1 1 1 1 1 1 1 1 1 1 1 1 1 1 1 1 1 1 1 1 1 1 1 1 1 1 1 1 1 0\n",
      " 0 0 0 0 0 0 0 0 0]\n"
     ]
    }
   ],
   "source": [
    "print(kn._y)"
   ]
  },
  {
   "cell_type": "code",
   "execution_count": 276,
   "metadata": {},
   "outputs": [
    {
     "data": {
      "text/plain": [
       "0.8795180722891566"
      ]
     },
     "execution_count": 276,
     "metadata": {},
     "output_type": "execute_result"
    }
   ],
   "source": [
    "kn73 = KNeighborsClassifier(n_neighbors=83)\n",
    "\n",
    "kn49.fit(sum_data, food_target)\n",
    "kn49.score(sum_data, food_target)"
   ]
  },
  {
   "cell_type": "code",
   "execution_count": 277,
   "metadata": {},
   "outputs": [
    {
     "name": "stdout",
     "output_type": "stream",
     "text": [
      "0.8795180722891566\n"
     ]
    }
   ],
   "source": [
    "print(73/83)"
   ]
  }
 ],
 "metadata": {
  "kernelspec": {
   "display_name": "DeokYoung980130",
   "language": "python",
   "name": "deokyoung980130"
  },
  "language_info": {
   "codemirror_mode": {
    "name": "ipython",
    "version": 3
   },
   "file_extension": ".py",
   "mimetype": "text/x-python",
   "name": "python",
   "nbconvert_exporter": "python",
   "pygments_lexer": "ipython3",
   "version": "3.11.4"
  },
  "orig_nbformat": 4
 },
 "nbformat": 4,
 "nbformat_minor": 2
}
