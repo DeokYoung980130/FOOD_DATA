{
 "cells": [
  {
   "cell_type": "code",
   "execution_count": 313,
   "metadata": {},
   "outputs": [
    {
     "data": {
      "text/html": [
       "<div>\n",
       "<style scoped>\n",
       "    .dataframe tbody tr th:only-of-type {\n",
       "        vertical-align: middle;\n",
       "    }\n",
       "\n",
       "    .dataframe tbody tr th {\n",
       "        vertical-align: top;\n",
       "    }\n",
       "\n",
       "    .dataframe thead th {\n",
       "        text-align: right;\n",
       "    }\n",
       "</style>\n",
       "<table border=\"1\" class=\"dataframe\">\n",
       "  <thead>\n",
       "    <tr style=\"text-align: right;\">\n",
       "      <th></th>\n",
       "      <th>식당명</th>\n",
       "      <th>분류명</th>\n",
       "      <th>행정동명</th>\n",
       "      <th>경도</th>\n",
       "      <th>위도</th>\n",
       "      <th>평점</th>\n",
       "      <th>방문자리뷰수</th>\n",
       "    </tr>\n",
       "  </thead>\n",
       "  <tbody>\n",
       "    <tr>\n",
       "      <th>0</th>\n",
       "      <td>카페드파리</td>\n",
       "      <td>카페</td>\n",
       "      <td>명동</td>\n",
       "      <td>37.562711</td>\n",
       "      <td>126.983746</td>\n",
       "      <td>4.26</td>\n",
       "      <td>345</td>\n",
       "    </tr>\n",
       "    <tr>\n",
       "      <th>1</th>\n",
       "      <td>몰또이탈리안에소프레소바</td>\n",
       "      <td>카페</td>\n",
       "      <td>명동</td>\n",
       "      <td>37.564577</td>\n",
       "      <td>126.986213</td>\n",
       "      <td>4.41</td>\n",
       "      <td>5426</td>\n",
       "    </tr>\n",
       "    <tr>\n",
       "      <th>2</th>\n",
       "      <td>르빵명동성당점</td>\n",
       "      <td>카페</td>\n",
       "      <td>명동</td>\n",
       "      <td>37.563240</td>\n",
       "      <td>126.987005</td>\n",
       "      <td>4.47</td>\n",
       "      <td>694</td>\n",
       "    </tr>\n",
       "    <tr>\n",
       "      <th>3</th>\n",
       "      <td>가배도명동</td>\n",
       "      <td>카페</td>\n",
       "      <td>명동</td>\n",
       "      <td>37.560576</td>\n",
       "      <td>126.985138</td>\n",
       "      <td>4.44</td>\n",
       "      <td>616</td>\n",
       "    </tr>\n",
       "    <tr>\n",
       "      <th>4</th>\n",
       "      <td>명동아지트</td>\n",
       "      <td>카페</td>\n",
       "      <td>명동</td>\n",
       "      <td>37.561961</td>\n",
       "      <td>126.985403</td>\n",
       "      <td>3.00</td>\n",
       "      <td>175</td>\n",
       "    </tr>\n",
       "    <tr>\n",
       "      <th>5</th>\n",
       "      <td>리사르커피명동점</td>\n",
       "      <td>카페</td>\n",
       "      <td>명동</td>\n",
       "      <td>37.561959</td>\n",
       "      <td>126.988225</td>\n",
       "      <td>3.50</td>\n",
       "      <td>823</td>\n",
       "    </tr>\n",
       "    <tr>\n",
       "      <th>6</th>\n",
       "      <td>스타벅스레스케이프호텔R점</td>\n",
       "      <td>카페</td>\n",
       "      <td>명동</td>\n",
       "      <td>37.560091</td>\n",
       "      <td>126.979491</td>\n",
       "      <td>4.55</td>\n",
       "      <td>1772</td>\n",
       "    </tr>\n",
       "    <tr>\n",
       "      <th>7</th>\n",
       "      <td>AboutBagel</td>\n",
       "      <td>카페</td>\n",
       "      <td>명동</td>\n",
       "      <td>37.564774</td>\n",
       "      <td>126.983145</td>\n",
       "      <td>2.70</td>\n",
       "      <td>148</td>\n",
       "    </tr>\n",
       "    <tr>\n",
       "      <th>8</th>\n",
       "      <td>커피한약방</td>\n",
       "      <td>카페</td>\n",
       "      <td>명동</td>\n",
       "      <td>37.566757</td>\n",
       "      <td>126.988612</td>\n",
       "      <td>4.42</td>\n",
       "      <td>3830</td>\n",
       "    </tr>\n",
       "    <tr>\n",
       "      <th>9</th>\n",
       "      <td>카페구할구</td>\n",
       "      <td>카페</td>\n",
       "      <td>명동</td>\n",
       "      <td>37.558633</td>\n",
       "      <td>126.987030</td>\n",
       "      <td>1.10</td>\n",
       "      <td>501</td>\n",
       "    </tr>\n",
       "    <tr>\n",
       "      <th>10</th>\n",
       "      <td>명동교자 본점</td>\n",
       "      <td>한식</td>\n",
       "      <td>명동</td>\n",
       "      <td>37.562768</td>\n",
       "      <td>126.985595</td>\n",
       "      <td>4.42</td>\n",
       "      <td>12711</td>\n",
       "    </tr>\n",
       "    <tr>\n",
       "      <th>11</th>\n",
       "      <td>원조 곱창떡볶이 화떡</td>\n",
       "      <td>한식</td>\n",
       "      <td>명동</td>\n",
       "      <td>37.563098</td>\n",
       "      <td>126.983777</td>\n",
       "      <td>4.35</td>\n",
       "      <td>2188</td>\n",
       "    </tr>\n",
       "    <tr>\n",
       "      <th>12</th>\n",
       "      <td>쯔루하시 후게츠 명동점</td>\n",
       "      <td>일식</td>\n",
       "      <td>명동</td>\n",
       "      <td>37.563550</td>\n",
       "      <td>126.984802</td>\n",
       "      <td>4.49</td>\n",
       "      <td>2577</td>\n",
       "    </tr>\n",
       "    <tr>\n",
       "      <th>13</th>\n",
       "      <td>하동관 명동본점</td>\n",
       "      <td>한식</td>\n",
       "      <td>명동</td>\n",
       "      <td>37.566087</td>\n",
       "      <td>126.985414</td>\n",
       "      <td>4.06</td>\n",
       "      <td>3654</td>\n",
       "    </tr>\n",
       "    <tr>\n",
       "      <th>14</th>\n",
       "      <td>란주라미엔</td>\n",
       "      <td>중식</td>\n",
       "      <td>명동</td>\n",
       "      <td>37.561432</td>\n",
       "      <td>126.982246</td>\n",
       "      <td>4.44</td>\n",
       "      <td>4859</td>\n",
       "    </tr>\n",
       "    <tr>\n",
       "      <th>15</th>\n",
       "      <td>남포면옥</td>\n",
       "      <td>한식</td>\n",
       "      <td>명동</td>\n",
       "      <td>37.567343</td>\n",
       "      <td>126.981542</td>\n",
       "      <td>4.22</td>\n",
       "      <td>3279</td>\n",
       "    </tr>\n",
       "    <tr>\n",
       "      <th>16</th>\n",
       "      <td>딘타이펑 명동점</td>\n",
       "      <td>중식</td>\n",
       "      <td>명동</td>\n",
       "      <td>37.564775</td>\n",
       "      <td>126.984219</td>\n",
       "      <td>4.43</td>\n",
       "      <td>4858</td>\n",
       "    </tr>\n",
       "    <tr>\n",
       "      <th>17</th>\n",
       "      <td>꽁시면관 본점</td>\n",
       "      <td>중식</td>\n",
       "      <td>명동</td>\n",
       "      <td>37.562177</td>\n",
       "      <td>126.983413</td>\n",
       "      <td>4.35</td>\n",
       "      <td>1106</td>\n",
       "    </tr>\n",
       "    <tr>\n",
       "      <th>18</th>\n",
       "      <td>명동피자 명동본점</td>\n",
       "      <td>양식</td>\n",
       "      <td>명동</td>\n",
       "      <td>37.563058</td>\n",
       "      <td>126.985687</td>\n",
       "      <td>4.35</td>\n",
       "      <td>2993</td>\n",
       "    </tr>\n",
       "    <tr>\n",
       "      <th>19</th>\n",
       "      <td>동강나루터</td>\n",
       "      <td>한식</td>\n",
       "      <td>명동</td>\n",
       "      <td>37.566766</td>\n",
       "      <td>126.988700</td>\n",
       "      <td>4.41</td>\n",
       "      <td>887</td>\n",
       "    </tr>\n",
       "    <tr>\n",
       "      <th>20</th>\n",
       "      <td>촛불1978</td>\n",
       "      <td>양식</td>\n",
       "      <td>명동</td>\n",
       "      <td>37.557040</td>\n",
       "      <td>126.985309</td>\n",
       "      <td>4.56</td>\n",
       "      <td>3889</td>\n",
       "    </tr>\n",
       "  </tbody>\n",
       "</table>\n",
       "</div>"
      ],
      "text/plain": [
       "              식당명  분류명  행정동명         경도          위도    평점   방문자리뷰수\n",
       "0           카페드파리   카페    명동  37.562711  126.983746  4.26      345\n",
       "1    몰또이탈리안에소프레소바   카페    명동  37.564577  126.986213  4.41     5426\n",
       "2         르빵명동성당점   카페    명동  37.563240  126.987005  4.47      694\n",
       "3           가배도명동   카페    명동  37.560576  126.985138  4.44      616\n",
       "4           명동아지트   카페    명동  37.561961  126.985403  3.00      175\n",
       "5        리사르커피명동점   카페    명동  37.561959  126.988225  3.50      823\n",
       "6   스타벅스레스케이프호텔R점   카페    명동  37.560091  126.979491  4.55     1772\n",
       "7      AboutBagel   카페    명동  37.564774  126.983145  2.70      148\n",
       "8           커피한약방   카페    명동  37.566757  126.988612  4.42     3830\n",
       "9           카페구할구   카페    명동  37.558633  126.987030  1.10      501\n",
       "10        명동교자 본점   한식    명동  37.562768  126.985595  4.42    12711\n",
       "11    원조 곱창떡볶이 화떡   한식    명동  37.563098  126.983777  4.35     2188\n",
       "12   쯔루하시 후게츠 명동점   일식    명동  37.563550  126.984802  4.49     2577\n",
       "13       하동관 명동본점   한식    명동  37.566087  126.985414  4.06     3654\n",
       "14          란주라미엔   중식    명동  37.561432  126.982246  4.44     4859\n",
       "15           남포면옥   한식    명동  37.567343  126.981542  4.22     3279\n",
       "16       딘타이펑 명동점   중식    명동  37.564775  126.984219  4.43     4858\n",
       "17        꽁시면관 본점   중식    명동  37.562177  126.983413  4.35     1106\n",
       "18      명동피자 명동본점   양식    명동  37.563058  126.985687  4.35     2993\n",
       "19          동강나루터   한식    명동  37.566766  126.988700  4.41      887\n",
       "20         촛불1978   양식    명동  37.557040  126.985309  4.56     3889"
      ]
     },
     "execution_count": 313,
     "metadata": {},
     "output_type": "execute_result"
    }
   ],
   "source": [
    "import numpy as np\n",
    "import pandas as pd\n",
    "\n",
    "df = pd.read_csv('test4.csv')\n",
    "df"
   ]
  },
  {
   "cell_type": "code",
   "execution_count": 314,
   "metadata": {},
   "outputs": [
    {
     "data": {
      "text/html": [
       "<div>\n",
       "<style scoped>\n",
       "    .dataframe tbody tr th:only-of-type {\n",
       "        vertical-align: middle;\n",
       "    }\n",
       "\n",
       "    .dataframe tbody tr th {\n",
       "        vertical-align: top;\n",
       "    }\n",
       "\n",
       "    .dataframe thead th {\n",
       "        text-align: right;\n",
       "    }\n",
       "</style>\n",
       "<table border=\"1\" class=\"dataframe\">\n",
       "  <thead>\n",
       "    <tr style=\"text-align: right;\">\n",
       "      <th></th>\n",
       "      <th>name</th>\n",
       "      <th>cate</th>\n",
       "      <th>dong</th>\n",
       "      <th>lon</th>\n",
       "      <th>lat</th>\n",
       "      <th>score</th>\n",
       "      <th>review</th>\n",
       "    </tr>\n",
       "  </thead>\n",
       "  <tbody>\n",
       "    <tr>\n",
       "      <th>0</th>\n",
       "      <td>카페드파리</td>\n",
       "      <td>카페</td>\n",
       "      <td>명동</td>\n",
       "      <td>37.562711</td>\n",
       "      <td>126.983746</td>\n",
       "      <td>4.26</td>\n",
       "      <td>345</td>\n",
       "    </tr>\n",
       "    <tr>\n",
       "      <th>1</th>\n",
       "      <td>몰또이탈리안에소프레소바</td>\n",
       "      <td>카페</td>\n",
       "      <td>명동</td>\n",
       "      <td>37.564577</td>\n",
       "      <td>126.986213</td>\n",
       "      <td>4.41</td>\n",
       "      <td>5426</td>\n",
       "    </tr>\n",
       "    <tr>\n",
       "      <th>2</th>\n",
       "      <td>르빵명동성당점</td>\n",
       "      <td>카페</td>\n",
       "      <td>명동</td>\n",
       "      <td>37.563240</td>\n",
       "      <td>126.987005</td>\n",
       "      <td>4.47</td>\n",
       "      <td>694</td>\n",
       "    </tr>\n",
       "    <tr>\n",
       "      <th>3</th>\n",
       "      <td>가배도명동</td>\n",
       "      <td>카페</td>\n",
       "      <td>명동</td>\n",
       "      <td>37.560576</td>\n",
       "      <td>126.985138</td>\n",
       "      <td>4.44</td>\n",
       "      <td>616</td>\n",
       "    </tr>\n",
       "    <tr>\n",
       "      <th>4</th>\n",
       "      <td>명동아지트</td>\n",
       "      <td>카페</td>\n",
       "      <td>명동</td>\n",
       "      <td>37.561961</td>\n",
       "      <td>126.985403</td>\n",
       "      <td>3.00</td>\n",
       "      <td>175</td>\n",
       "    </tr>\n",
       "    <tr>\n",
       "      <th>5</th>\n",
       "      <td>리사르커피명동점</td>\n",
       "      <td>카페</td>\n",
       "      <td>명동</td>\n",
       "      <td>37.561959</td>\n",
       "      <td>126.988225</td>\n",
       "      <td>3.50</td>\n",
       "      <td>823</td>\n",
       "    </tr>\n",
       "    <tr>\n",
       "      <th>6</th>\n",
       "      <td>스타벅스레스케이프호텔R점</td>\n",
       "      <td>카페</td>\n",
       "      <td>명동</td>\n",
       "      <td>37.560091</td>\n",
       "      <td>126.979491</td>\n",
       "      <td>4.55</td>\n",
       "      <td>1772</td>\n",
       "    </tr>\n",
       "    <tr>\n",
       "      <th>7</th>\n",
       "      <td>AboutBagel</td>\n",
       "      <td>카페</td>\n",
       "      <td>명동</td>\n",
       "      <td>37.564774</td>\n",
       "      <td>126.983145</td>\n",
       "      <td>2.70</td>\n",
       "      <td>148</td>\n",
       "    </tr>\n",
       "    <tr>\n",
       "      <th>8</th>\n",
       "      <td>커피한약방</td>\n",
       "      <td>카페</td>\n",
       "      <td>명동</td>\n",
       "      <td>37.566757</td>\n",
       "      <td>126.988612</td>\n",
       "      <td>4.42</td>\n",
       "      <td>3830</td>\n",
       "    </tr>\n",
       "    <tr>\n",
       "      <th>9</th>\n",
       "      <td>카페구할구</td>\n",
       "      <td>카페</td>\n",
       "      <td>명동</td>\n",
       "      <td>37.558633</td>\n",
       "      <td>126.987030</td>\n",
       "      <td>1.10</td>\n",
       "      <td>501</td>\n",
       "    </tr>\n",
       "    <tr>\n",
       "      <th>10</th>\n",
       "      <td>명동교자 본점</td>\n",
       "      <td>한식</td>\n",
       "      <td>명동</td>\n",
       "      <td>37.562768</td>\n",
       "      <td>126.985595</td>\n",
       "      <td>4.42</td>\n",
       "      <td>12711</td>\n",
       "    </tr>\n",
       "    <tr>\n",
       "      <th>11</th>\n",
       "      <td>원조 곱창떡볶이 화떡</td>\n",
       "      <td>한식</td>\n",
       "      <td>명동</td>\n",
       "      <td>37.563098</td>\n",
       "      <td>126.983777</td>\n",
       "      <td>4.35</td>\n",
       "      <td>2188</td>\n",
       "    </tr>\n",
       "    <tr>\n",
       "      <th>12</th>\n",
       "      <td>쯔루하시 후게츠 명동점</td>\n",
       "      <td>일식</td>\n",
       "      <td>명동</td>\n",
       "      <td>37.563550</td>\n",
       "      <td>126.984802</td>\n",
       "      <td>4.49</td>\n",
       "      <td>2577</td>\n",
       "    </tr>\n",
       "    <tr>\n",
       "      <th>13</th>\n",
       "      <td>하동관 명동본점</td>\n",
       "      <td>한식</td>\n",
       "      <td>명동</td>\n",
       "      <td>37.566087</td>\n",
       "      <td>126.985414</td>\n",
       "      <td>4.06</td>\n",
       "      <td>3654</td>\n",
       "    </tr>\n",
       "    <tr>\n",
       "      <th>14</th>\n",
       "      <td>란주라미엔</td>\n",
       "      <td>중식</td>\n",
       "      <td>명동</td>\n",
       "      <td>37.561432</td>\n",
       "      <td>126.982246</td>\n",
       "      <td>4.44</td>\n",
       "      <td>4859</td>\n",
       "    </tr>\n",
       "    <tr>\n",
       "      <th>15</th>\n",
       "      <td>남포면옥</td>\n",
       "      <td>한식</td>\n",
       "      <td>명동</td>\n",
       "      <td>37.567343</td>\n",
       "      <td>126.981542</td>\n",
       "      <td>4.22</td>\n",
       "      <td>3279</td>\n",
       "    </tr>\n",
       "    <tr>\n",
       "      <th>16</th>\n",
       "      <td>딘타이펑 명동점</td>\n",
       "      <td>중식</td>\n",
       "      <td>명동</td>\n",
       "      <td>37.564775</td>\n",
       "      <td>126.984219</td>\n",
       "      <td>4.43</td>\n",
       "      <td>4858</td>\n",
       "    </tr>\n",
       "    <tr>\n",
       "      <th>17</th>\n",
       "      <td>꽁시면관 본점</td>\n",
       "      <td>중식</td>\n",
       "      <td>명동</td>\n",
       "      <td>37.562177</td>\n",
       "      <td>126.983413</td>\n",
       "      <td>4.35</td>\n",
       "      <td>1106</td>\n",
       "    </tr>\n",
       "    <tr>\n",
       "      <th>18</th>\n",
       "      <td>명동피자 명동본점</td>\n",
       "      <td>양식</td>\n",
       "      <td>명동</td>\n",
       "      <td>37.563058</td>\n",
       "      <td>126.985687</td>\n",
       "      <td>4.35</td>\n",
       "      <td>2993</td>\n",
       "    </tr>\n",
       "    <tr>\n",
       "      <th>19</th>\n",
       "      <td>동강나루터</td>\n",
       "      <td>한식</td>\n",
       "      <td>명동</td>\n",
       "      <td>37.566766</td>\n",
       "      <td>126.988700</td>\n",
       "      <td>4.41</td>\n",
       "      <td>887</td>\n",
       "    </tr>\n",
       "    <tr>\n",
       "      <th>20</th>\n",
       "      <td>촛불1978</td>\n",
       "      <td>양식</td>\n",
       "      <td>명동</td>\n",
       "      <td>37.557040</td>\n",
       "      <td>126.985309</td>\n",
       "      <td>4.56</td>\n",
       "      <td>3889</td>\n",
       "    </tr>\n",
       "  </tbody>\n",
       "</table>\n",
       "</div>"
      ],
      "text/plain": [
       "             name cate dong        lon         lat  score  review\n",
       "0           카페드파리   카페   명동  37.562711  126.983746   4.26     345\n",
       "1    몰또이탈리안에소프레소바   카페   명동  37.564577  126.986213   4.41    5426\n",
       "2         르빵명동성당점   카페   명동  37.563240  126.987005   4.47     694\n",
       "3           가배도명동   카페   명동  37.560576  126.985138   4.44     616\n",
       "4           명동아지트   카페   명동  37.561961  126.985403   3.00     175\n",
       "5        리사르커피명동점   카페   명동  37.561959  126.988225   3.50     823\n",
       "6   스타벅스레스케이프호텔R점   카페   명동  37.560091  126.979491   4.55    1772\n",
       "7      AboutBagel   카페   명동  37.564774  126.983145   2.70     148\n",
       "8           커피한약방   카페   명동  37.566757  126.988612   4.42    3830\n",
       "9           카페구할구   카페   명동  37.558633  126.987030   1.10     501\n",
       "10        명동교자 본점   한식   명동  37.562768  126.985595   4.42   12711\n",
       "11    원조 곱창떡볶이 화떡   한식   명동  37.563098  126.983777   4.35    2188\n",
       "12   쯔루하시 후게츠 명동점   일식   명동  37.563550  126.984802   4.49    2577\n",
       "13       하동관 명동본점   한식   명동  37.566087  126.985414   4.06    3654\n",
       "14          란주라미엔   중식   명동  37.561432  126.982246   4.44    4859\n",
       "15           남포면옥   한식   명동  37.567343  126.981542   4.22    3279\n",
       "16       딘타이펑 명동점   중식   명동  37.564775  126.984219   4.43    4858\n",
       "17        꽁시면관 본점   중식   명동  37.562177  126.983413   4.35    1106\n",
       "18      명동피자 명동본점   양식   명동  37.563058  126.985687   4.35    2993\n",
       "19          동강나루터   한식   명동  37.566766  126.988700   4.41     887\n",
       "20         촛불1978   양식   명동  37.557040  126.985309   4.56    3889"
      ]
     },
     "execution_count": 314,
     "metadata": {},
     "output_type": "execute_result"
    }
   ],
   "source": [
    "df.columns= ['name',\n",
    "             'cate',\n",
    "             'dong',\n",
    "             'lon',\n",
    "             'lat',\n",
    "             'score',\n",
    "             'review',\n",
    "             ]\n",
    "df"
   ]
  },
  {
   "cell_type": "code",
   "execution_count": 317,
   "metadata": {},
   "outputs": [],
   "source": [
    "import numpy as np\n",
    "\n",
    "food_score = np.array([4.26, 4.41, 4.47, 4.44, 3, 3.5, 4.55, 2.7, 4.42, 1.1, 4.42, 4.35, 4.49, 4.06, 4.44, 4.22, 4.43, 4.35, 4.35, 4.41, 4.56])\n",
    "\n",
    "food_reviews = np.array([345, 5426, 694, 616, 175, 823, 1772, 148, 3830, 501, 12711, 2188, 2577, 3654, 4859, 3279, 4858, 1106, 2993, 887, 3889])"
   ]
  },
  {
   "cell_type": "code",
   "execution_count": 318,
   "metadata": {},
   "outputs": [],
   "source": [
    "from sklearn.model_selection import train_test_split\n",
    "\n",
    "# 훈련세트와 테스트세트로 나누기\n",
    "train_input, test_input, train_target, test_target = train_test_split(food_score, food_reviews, random_state=42)\n",
    "\n",
    "# 훈련세트와 테스트세트를 2차원 배열로 바꾸기\n",
    "train_input = train_input.reshape(-1, 1)\n",
    "test_input = test_input.reshape(-1, 1)"
   ]
  },
  {
   "cell_type": "code",
   "execution_count": 322,
   "metadata": {},
   "outputs": [
    {
     "name": "stdout",
     "output_type": "stream",
     "text": [
      "[2746.]\n"
     ]
    }
   ],
   "source": [
    "from sklearn.neighbors import KNeighborsRegressor\n",
    "\n",
    "knr = KNeighborsRegressor(n_neighbors=3)\n",
    "\n",
    "# k-최근접 이웃 회귀 모델을 훈련\n",
    "knr.fit(train_input, train_target)\n",
    "\n",
    "print(knr.predict([[5]]))"
   ]
  },
  {
   "cell_type": "code",
   "execution_count": 321,
   "metadata": {},
   "outputs": [
    {
     "data": {
      "image/png": "[encoded data removed]",
      "text/plain": [
       "<Figure size 640x480 with 1 Axes>"
      ]
     },
     "metadata": {},
     "output_type": "display_data"
    }
   ],
   "source": [
    "import matplotlib.pyplot as plt\n",
    "\n",
    "# 별점 5점에 가게를 구한다.\n",
    "distances, indexes = knr.kneighbors([[5]])\n",
    "\n",
    "# 훈련세트의 산점도를 그린다.\n",
    "plt.scatter(train_input, train_target)\n",
    "\n",
    "# 훈련세트 중에서 이웃 샘플만 다시 그린다.\n",
    "plt.scatter(train_input[indexes], train_target[indexes], marker='D')\n",
    "\n",
    "# 5점짜리 가게 데이터\n",
    "plt.scatter(5, 100, marker='^')\n",
    "plt.xlabel('score')\n",
    "plt.ylabel('review')\n",
    "plt.show()"
   ]
  },
  {
   "cell_type": "code",
   "execution_count": 323,
   "metadata": {},
   "outputs": [
    {
     "name": "stdout",
     "output_type": "stream",
     "text": [
      "2746.0\n"
     ]
    }
   ],
   "source": [
    "print(np.mean(train_target[indexes]))"
   ]
  },
  {
   "cell_type": "code",
   "execution_count": 327,
   "metadata": {},
   "outputs": [
    {
     "name": "stdout",
     "output_type": "stream",
     "text": [
      "[2746.]\n"
     ]
    }
   ],
   "source": [
    "print(knr.predict([[5]]))"
   ]
  },
  {
   "cell_type": "code",
   "execution_count": 329,
   "metadata": {},
   "outputs": [
    {
     "name": "stdout",
     "output_type": "stream",
     "text": [
      "[4037.92642952]\n"
     ]
    }
   ],
   "source": [
    "from sklearn.linear_model import LinearRegression\n",
    "\n",
    "lr = LinearRegression()\n",
    "\n",
    "# 션형회귀 모델 훈련\n",
    "lr.fit(train_input, train_target)\n",
    "\n",
    "# 별점 5점에 대해 예측\n",
    "print(lr.predict([[5]]))"
   ]
  },
  {
   "cell_type": "code",
   "execution_count": 330,
   "metadata": {},
   "outputs": [
    {
     "name": "stdout",
     "output_type": "stream",
     "text": [
      "[1184.95708751] -1886.8590080247277\n"
     ]
    }
   ],
   "source": [
    "print(lr.coef_, lr.intercept_)"
   ]
  },
  {
   "cell_type": "code",
   "execution_count": 333,
   "metadata": {},
   "outputs": [
    {
     "data": {
      "image/png": "[encoded data removed]",
      "text/plain": [
       "<Figure size 640x480 with 1 Axes>"
      ]
     },
     "metadata": {},
     "output_type": "display_data"
    }
   ],
   "source": [
    "# 훈련세트의 산점도 그리기\n",
    "plt.scatter(train_input, train_target)\n",
    "\n",
    "# 1~5까지 1차 방정식 그래프 그리기\n",
    "plt.plot([1, 5], [1*lr.coef_+lr.intercept_, 5*lr.coef_+lr.intercept_],)\n",
    "\n",
    "# 별점 5점 가게 데이터\n",
    "plt.scatter(5, 4037.9, marker='^')\n",
    "plt.xlabel('score')\n",
    "plt.ylabel('review')\n",
    "plt.show()"
   ]
  },
  {
   "cell_type": "code",
   "execution_count": 334,
   "metadata": {},
   "outputs": [
    {
     "name": "stdout",
     "output_type": "stream",
     "text": [
      "0.1317183179172161\n",
      "0.05153228009574684\n"
     ]
    }
   ],
   "source": [
    "print(lr.score(train_input, train_target)) # 훈련세트\n",
    "print(lr.score(test_input, test_target)) # 테스트세트"
   ]
  },
  {
   "cell_type": "code",
   "execution_count": 336,
   "metadata": {},
   "outputs": [
    {
     "name": "stdout",
     "output_type": "stream",
     "text": [
      "(15, 2) (6, 2)\n"
     ]
    }
   ],
   "source": [
    "train_poly = np.column_stack((train_input ** 2, train_input))\n",
    "test_poly = np.column_stack((test_input ** 2, test_input))\n",
    "\n",
    "print(train_poly.shape, test_poly.shape)"
   ]
  },
  {
   "cell_type": "code",
   "execution_count": 338,
   "metadata": {},
   "outputs": [
    {
     "name": "stdout",
     "output_type": "stream",
     "text": [
      "[5086.35128864]\n"
     ]
    }
   ],
   "source": [
    "lr = LinearRegression()\n",
    "lr.fit(train_poly, train_target)\n",
    "\n",
    "print(lr.predict([[5**2, 5]]))"
   ]
  },
  {
   "cell_type": "code",
   "execution_count": 339,
   "metadata": {},
   "outputs": [
    {
     "name": "stdout",
     "output_type": "stream",
     "text": [
      "[  495.6111598  -1801.28489822] 1702.4967847541536\n"
     ]
    }
   ],
   "source": [
    "print(lr.coef_, lr.intercept_)"
   ]
  },
  {
   "cell_type": "code",
   "execution_count": 340,
   "metadata": {},
   "outputs": [
    {
     "data": {
      "image/png": "[encoded data removed]",
      "text/plain": [
       "<Figure size 640x480 with 1 Axes>"
      ]
     },
     "metadata": {},
     "output_type": "display_data"
    }
   ],
   "source": [
    "point = np.arange(1, 5)\n",
    "\n",
    "plt.scatter(train_input, train_target)\n",
    "plt.plot(point, 495.6*point**2 - 1801.3*point + 1702.5)\n",
    "\n",
    "plt.scatter(5, 5086, marker='^')\n",
    "plt.xlabel('score')\n",
    "plt.ylabel('review')\n",
    "plt.show()"
   ]
  },
  {
   "cell_type": "code",
   "execution_count": 342,
   "metadata": {},
   "outputs": [
    {
     "name": "stdout",
     "output_type": "stream",
     "text": [
      "0.15106813815985443\n",
      "0.18497778669275078\n"
     ]
    }
   ],
   "source": [
    "print(lr.score(train_poly, train_target))\n",
    "print(lr.score(test_poly, test_target))"
   ]
  }
 ],
 "metadata": {
  "kernelspec": {
   "display_name": "DeokYoung980130",
   "language": "python",
   "name": "conda"
  },
  "language_info": {
   "codemirror_mode": {
    "name": "ipython",
    "version": 3
   },
   "file_extension": ".py",
   "mimetype": "text/x-python",
   "name": "python",
   "nbconvert_exporter": "python",
   "pygments_lexer": "ipython3",
   "version": "3.11.4"
  },
  "orig_nbformat": 4
 },
 "nbformat": 4,
 "nbformat_minor": 2
}
